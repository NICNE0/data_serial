{
 "cells": [
  {
   "cell_type": "code",
   "execution_count": null,
   "id": "879d7cd2",
   "metadata": {},
   "outputs": [],
   "source": [
    "import pandas as pd\n",
    "from helpers.serial import serialize, deserialize"
   ]
  },
  {
   "cell_type": "code",
   "execution_count": null,
   "id": "5c67f37b",
   "metadata": {},
   "outputs": [],
   "source": [
    "# load files\n",
    "path = \"/mnt/c/Users/rnogu/local_documents/datasets/\"\n",
    "# pokemon\n",
    "df = pd.read_csv(path+f\"pokedex/archive/final_pokemon.csv\")"
   ]
  },
  {
   "cell_type": "code",
   "execution_count": null,
   "id": "5dfef193",
   "metadata": {},
   "outputs": [],
   "source": [
    "df.dtypes"
   ]
  },
  {
   "cell_type": "code",
   "execution_count": null,
   "id": "0d46d815",
   "metadata": {},
   "outputs": [],
   "source": [
    "serialize(df, \"serialized/serialized_pokemon\")"
   ]
  },
  {
   "cell_type": "code",
   "execution_count": null,
   "id": "0cd52251",
   "metadata": {},
   "outputs": [],
   "source": [
    "df_deserialized = deserialize(\"serialized/serialized_pokemon.yml\")"
   ]
  },
  {
   "cell_type": "code",
   "execution_count": null,
   "id": "242b6e38",
   "metadata": {},
   "outputs": [],
   "source": [
    "df_deserialized"
   ]
  },
  {
   "cell_type": "code",
   "execution_count": null,
   "id": "51f3cb71",
   "metadata": {},
   "outputs": [],
   "source": []
  }
 ],
 "metadata": {
  "kernelspec": {
   "display_name": "data_serial",
   "language": "python",
   "name": "data_serial"
  },
  "language_info": {
   "codemirror_mode": {
    "name": "ipython",
    "version": 3
   },
   "file_extension": ".py",
   "mimetype": "text/x-python",
   "name": "python",
   "nbconvert_exporter": "python",
   "pygments_lexer": "ipython3",
   "version": "3.12.3"
  }
 },
 "nbformat": 4,
 "nbformat_minor": 5
}
